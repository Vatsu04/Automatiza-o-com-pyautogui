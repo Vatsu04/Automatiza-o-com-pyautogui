{
 "cells": [
  {
   "cell_type": "markdown",
   "metadata": {},
   "source": [
    "# Automação de Sistemas e Processos com Python\n",
    "\n",
    "### Desafio:\n",
    "\n",
    "Todos os dias, o nosso sistema atualiza as vendas do dia anterior.\n",
    "O seu trabalho diário, como analista, é enviar um e-mail para a diretoria, assim que começar a trabalhar, com o faturamento e a quantidade de produtos vendidos no dia anterior\n",
    "\n",
    "E-mail da diretoria: seugmail+diretoria@gmail.com<br>\n",
    "Local onde o sistema disponibiliza as vendas do dia anterior: https://drive.google.com/drive/folders/149xknr9JvrlEnhNWO49zPcw0PW5icxga?usp=sharing\n",
    "\n",
    "Para resolver isso, vamos usar o pyautogui, uma biblioteca de automação de comandos do mouse e do teclado"
   ]
  },
  {
   "cell_type": "code",
   "execution_count": 2,
   "metadata": {
    "tags": []
   },
   "outputs": [
    {
     "name": "stdout",
     "output_type": "stream",
     "text": [
      "Requirement already satisfied: pyautogui in c:\\users\\tasca\\appdata\\local\\programs\\python\\python39\\lib\\site-packages (0.9.53)\n",
      "Requirement already satisfied: pymsgbox in c:\\users\\tasca\\appdata\\local\\programs\\python\\python39\\lib\\site-packages (from pyautogui) (1.0.9)\n",
      "Requirement already satisfied: PyTweening>=1.0.1 in c:\\users\\tasca\\appdata\\local\\programs\\python\\python39\\lib\\site-packages (from pyautogui) (1.0.4)\n",
      "Requirement already satisfied: pyscreeze>=0.1.21 in c:\\users\\tasca\\appdata\\local\\programs\\python\\python39\\lib\\site-packages (from pyautogui) (0.1.28)\n",
      "Requirement already satisfied: pygetwindow>=0.0.5 in c:\\users\\tasca\\appdata\\local\\programs\\python\\python39\\lib\\site-packages (from pyautogui) (0.0.9)\n",
      "Requirement already satisfied: mouseinfo in c:\\users\\tasca\\appdata\\local\\programs\\python\\python39\\lib\\site-packages (from pyautogui) (0.1.3)\n",
      "Requirement already satisfied: pyrect in c:\\users\\tasca\\appdata\\local\\programs\\python\\python39\\lib\\site-packages (from pygetwindow>=0.0.5->pyautogui) (0.2.0)\n",
      "Requirement already satisfied: pyperclip in c:\\users\\tasca\\appdata\\local\\programs\\python\\python39\\lib\\site-packages (from mouseinfo->pyautogui) (1.8.2)\n"
     ]
    }
   ],
   "source": [
    "!pip install pyautogui"
   ]
  },
  {
   "cell_type": "code",
   "execution_count": 3,
   "metadata": {},
   "outputs": [],
   "source": [
    "#pyautogui:Biblioteca do python usada para controler mouse, teclado e a tela do computador\n",
    "#Pyperclip: Instalação que já faz parte do \"pip install pyautogui\", feito para copiar textos, etc\n",
    "import pyautogui as auto #Nos comandos do pyautogui, onde você  escreveria \"pyautogui\", você escreve apenas \"auto\", para ficar mais curto.\n",
    "import pyperclip \n",
    "import time #Controla o tempo (N precisa dar pip install, ela já vem instalado com o python\n",
    "\n",
    "\n",
    "\n",
    "#pyautogui.click: Comando para o mouse clicar em algum  lugar\n",
    "#pyautogui.write: Comando para Escrever (Texto)\n",
    "#pyautogui.press: Pressionar um tecla (Tecla única, utilizada mais para teclas como espaço, enter etc)\n",
    "#pyautogui.hotkey: Atalho do teclado (Ex: crtl+c,, ctrl+v, ctrl+alt+delete) \n",
    "#pyautogui.PAUSE = 1(1 segundo de pausa durante os comandos do pyautogui, defina isso no começo do seu código, pessoalmente, prefiro usar o time.sleep, mas isso tbm é útil para deixar um padrão e n ter que ficar repitindo\n",
    "#pyautogui.FAILSAFE = True (Sempre que você escostar o seu mouse no canto superior esquerdo da sua tela, pausa o seu código)\n",
    "auto.PAUSE = 0.5\n",
    "\n",
    "\n",
    "\n",
    "#Passo 1: Entrar no sistema da empresa (No link do drive)\n",
    "\n",
    "\n",
    "\n",
    "auto.hotkey(\"ctrl\", \"t\")\n",
    "pyperclip.copy(\"https://drive.google.com/drive/folders/149xknr9JvrlEnhNWO49zPcw0PW5icxga?usp=sharing\")\n",
    "auto.hotkey(\"ctrl\", \"v\")\n",
    "time.sleep(1)\n",
    "auto.press(\"enter\")\n",
    "time.sleep(3) #Utilize o time.sleep estratégicamente, para tempos de carregamento dependendo de sua internet etc\n",
    "\n",
    "#Passo 2: Navegar até o local do relatório (Entrar na pasta Exportar)\n",
    "auto.click(x=1736, y=378, clicks=3) #clicks = numero de clicks que vc quer\n",
    "\n",
    "#Passo 3: Exportar o relatório (fazer o download)\n",
    "time.sleep(1)\n",
    "auto.click(x=1813, y=428, button = \"right\") #O padrão é left, tem o center tbm\n",
    "time.sleep(1)\n",
    "auto.click(x=2057, y=877)\n",
    "\n",
    "time.sleep(5)\n",
    "\n",
    "\n",
    "#Passos 4 e 5 la em baixo"
   ]
  },
  {
   "cell_type": "code",
   "execution_count": 4,
   "metadata": {},
   "outputs": [],
   "source": [
    "#Automatização da abertura do Microsoft Excel\n",
    "\n",
    "auto.press(\"win\")\n",
    "auto.write(\"excel\")\n",
    "auto.press(\"enter\")"
   ]
  },
  {
   "cell_type": "code",
   "execution_count": 5,
   "metadata": {},
   "outputs": [],
   "source": [
    "#Abre um nova aba\n",
    "auto.hotkey(\"ctrl\", \"t\")"
   ]
  },
  {
   "cell_type": "code",
   "execution_count": null,
   "metadata": {
    "tags": []
   },
   "outputs": [],
   "source": [
    "#Caso decida usar outro editor de código, de no console, pip install pandas, pip install numpy, pip install openpyxl"
   ]
  },
  {
   "cell_type": "markdown",
   "metadata": {},
   "source": [
    "### Vamos agora ler o arquivo baixado para pegar os indicadores\n",
    "\n",
    "- Faturamento\n",
    "- Quantidade de Produtos"
   ]
  },
  {
   "cell_type": "code",
   "execution_count": 44,
   "metadata": {},
   "outputs": [
    {
     "data": {
      "text/html": [
       "<div>\n",
       "<style scoped>\n",
       "    .dataframe tbody tr th:only-of-type {\n",
       "        vertical-align: middle;\n",
       "    }\n",
       "\n",
       "    .dataframe tbody tr th {\n",
       "        vertical-align: top;\n",
       "    }\n",
       "\n",
       "    .dataframe thead th {\n",
       "        text-align: right;\n",
       "    }\n",
       "</style>\n",
       "<table border=\"1\" class=\"dataframe\">\n",
       "  <thead>\n",
       "    <tr style=\"text-align: right;\">\n",
       "      <th></th>\n",
       "      <th>Código Venda</th>\n",
       "      <th>Data</th>\n",
       "      <th>ID Loja</th>\n",
       "      <th>Produto</th>\n",
       "      <th>Quantidade</th>\n",
       "      <th>Valor Unitário</th>\n",
       "      <th>Valor Final</th>\n",
       "    </tr>\n",
       "  </thead>\n",
       "  <tbody>\n",
       "    <tr>\n",
       "      <th>0</th>\n",
       "      <td>65014</td>\n",
       "      <td>2019-12-01</td>\n",
       "      <td>Shopping Morumbi</td>\n",
       "      <td>Sunga Listrado</td>\n",
       "      <td>5</td>\n",
       "      <td>114</td>\n",
       "      <td>570</td>\n",
       "    </tr>\n",
       "    <tr>\n",
       "      <th>1</th>\n",
       "      <td>65014</td>\n",
       "      <td>2019-12-01</td>\n",
       "      <td>Shopping Morumbi</td>\n",
       "      <td>Casaco Listrado</td>\n",
       "      <td>1</td>\n",
       "      <td>269</td>\n",
       "      <td>269</td>\n",
       "    </tr>\n",
       "    <tr>\n",
       "      <th>2</th>\n",
       "      <td>65016</td>\n",
       "      <td>2019-12-01</td>\n",
       "      <td>Iguatemi Campinas</td>\n",
       "      <td>Sapato Listrado</td>\n",
       "      <td>2</td>\n",
       "      <td>363</td>\n",
       "      <td>726</td>\n",
       "    </tr>\n",
       "    <tr>\n",
       "      <th>3</th>\n",
       "      <td>65016</td>\n",
       "      <td>2019-12-01</td>\n",
       "      <td>Iguatemi Campinas</td>\n",
       "      <td>Casaco</td>\n",
       "      <td>1</td>\n",
       "      <td>250</td>\n",
       "      <td>250</td>\n",
       "    </tr>\n",
       "    <tr>\n",
       "      <th>4</th>\n",
       "      <td>65017</td>\n",
       "      <td>2019-12-01</td>\n",
       "      <td>Shopping SP Market</td>\n",
       "      <td>Gorro Liso</td>\n",
       "      <td>3</td>\n",
       "      <td>92</td>\n",
       "      <td>276</td>\n",
       "    </tr>\n",
       "    <tr>\n",
       "      <th>...</th>\n",
       "      <td>...</td>\n",
       "      <td>...</td>\n",
       "      <td>...</td>\n",
       "      <td>...</td>\n",
       "      <td>...</td>\n",
       "      <td>...</td>\n",
       "      <td>...</td>\n",
       "    </tr>\n",
       "    <tr>\n",
       "      <th>7084</th>\n",
       "      <td>69996</td>\n",
       "      <td>2019-12-26</td>\n",
       "      <td>Center Shopping Uberlândia</td>\n",
       "      <td>Short Listrado</td>\n",
       "      <td>2</td>\n",
       "      <td>102</td>\n",
       "      <td>204</td>\n",
       "    </tr>\n",
       "    <tr>\n",
       "      <th>7085</th>\n",
       "      <td>69996</td>\n",
       "      <td>2019-12-26</td>\n",
       "      <td>Center Shopping Uberlândia</td>\n",
       "      <td>Mochila</td>\n",
       "      <td>4</td>\n",
       "      <td>270</td>\n",
       "      <td>1080</td>\n",
       "    </tr>\n",
       "    <tr>\n",
       "      <th>7086</th>\n",
       "      <td>69996</td>\n",
       "      <td>2019-12-26</td>\n",
       "      <td>Center Shopping Uberlândia</td>\n",
       "      <td>Pulseira Estampa</td>\n",
       "      <td>1</td>\n",
       "      <td>87</td>\n",
       "      <td>87</td>\n",
       "    </tr>\n",
       "    <tr>\n",
       "      <th>7087</th>\n",
       "      <td>69997</td>\n",
       "      <td>2019-12-26</td>\n",
       "      <td>Ribeirão Shopping</td>\n",
       "      <td>Camisa Listrado</td>\n",
       "      <td>1</td>\n",
       "      <td>108</td>\n",
       "      <td>108</td>\n",
       "    </tr>\n",
       "    <tr>\n",
       "      <th>7088</th>\n",
       "      <td>69997</td>\n",
       "      <td>2019-12-26</td>\n",
       "      <td>Ribeirão Shopping</td>\n",
       "      <td>Short Linho</td>\n",
       "      <td>2</td>\n",
       "      <td>133</td>\n",
       "      <td>266</td>\n",
       "    </tr>\n",
       "  </tbody>\n",
       "</table>\n",
       "<p>7089 rows × 7 columns</p>\n",
       "</div>"
      ],
      "text/plain": [
       "      Código Venda       Data                     ID Loja           Produto  \\\n",
       "0            65014 2019-12-01            Shopping Morumbi    Sunga Listrado   \n",
       "1            65014 2019-12-01            Shopping Morumbi   Casaco Listrado   \n",
       "2            65016 2019-12-01           Iguatemi Campinas   Sapato Listrado   \n",
       "3            65016 2019-12-01           Iguatemi Campinas            Casaco   \n",
       "4            65017 2019-12-01          Shopping SP Market        Gorro Liso   \n",
       "...            ...        ...                         ...               ...   \n",
       "7084         69996 2019-12-26  Center Shopping Uberlândia    Short Listrado   \n",
       "7085         69996 2019-12-26  Center Shopping Uberlândia           Mochila   \n",
       "7086         69996 2019-12-26  Center Shopping Uberlândia  Pulseira Estampa   \n",
       "7087         69997 2019-12-26           Ribeirão Shopping   Camisa Listrado   \n",
       "7088         69997 2019-12-26           Ribeirão Shopping       Short Linho   \n",
       "\n",
       "      Quantidade  Valor Unitário  Valor Final  \n",
       "0              5             114          570  \n",
       "1              1             269          269  \n",
       "2              2             363          726  \n",
       "3              1             250          250  \n",
       "4              3              92          276  \n",
       "...          ...             ...          ...  \n",
       "7084           2             102          204  \n",
       "7085           4             270         1080  \n",
       "7086           1              87           87  \n",
       "7087           1             108          108  \n",
       "7088           2             133          266  \n",
       "\n",
       "[7089 rows x 7 columns]"
      ]
     },
     "metadata": {},
     "output_type": "display_data"
    },
    {
     "name": "stdout",
     "output_type": "stream",
     "text": [
      "2917311\n",
      "15227\n"
     ]
    }
   ],
   "source": [
    "#Passo 4: Calcular os indicadores (faturamento e quantidade de produtos)\n",
    "\n",
    "import pandas as pd #Uma das bibliotecas mais usadas do python, perfeita para analise e ciência de dados, permite você trabalhar com milhares de informações de forma eficiente, já vem instalado no Jupyter\n",
    "#Importar o pandas como pd é EXTREMAMENTE comúm\n",
    "\n",
    "tabela = pd.read_excel(r\"D:\\downloads/Vendas - Dez.xlsx\")\n",
    "\n",
    "#Dica: aperte o tab depois de escrever \"read\" para ver o tipo de arquivo que vc quer ler\n",
    "\n",
    "display(tabela)\n",
    "\n",
    "#display: Print soq essencialmente mais bonito e legível, utilizado quando se trabalha com a biblioteca pandas\n",
    "faturamento =tabela[\"Valor Final\"].sum()  #Sum = soma, mean = média, count = contar\n",
    "quantidade = tabela[\"Quantidade\"].sum()\n",
    "print(faturamento)\n",
    "print(quantidade)"
   ]
  },
  {
   "cell_type": "markdown",
   "metadata": {},
   "source": [
    "### Vamos agora enviar um e-mail pelo gmail"
   ]
  },
  {
   "cell_type": "code",
   "execution_count": 12,
   "metadata": {},
   "outputs": [],
   "source": [
    "\n",
    "#Passo 5: Enviar um e-mail para o diretório\n",
    "\n",
    "#abrir o gmail\n",
    "\n",
    "\n",
    "auto.hotkey(\"ctrl\", \"t\")\n",
    "pyperclip.copy(\"https://mail.google.com/mail/u/0/?tab=rm&ogbl#inbox\")\n",
    "auto.hotkey(\"ctrl\", \"v\")\n",
    "auto.press(\"enter\")\n",
    "time.sleep(3)\n",
    "auto.click(x=1340, y=223)\n",
    "time.sleep(1)\n",
    "auto.click(x=2128, y=485)\n",
    "auto.write(\"pythonimpressionador@gmail.com\")\n",
    "auto.press(\"tab\")\n",
    "auto.click(x=1989, y=593)\n",
    "#corpo\n",
    "texto = \"\"\" Prezados, bom dia\n",
    "\n",
    "O faturamento de ontem foi de: tanto\n",
    "A quantidade de produtos foi de: tanto\n",
    "\n",
    "Abs\n",
    "Gustavo Passos Tascheri\"\"\" \n",
    "pyperclip.copy(texto)\n",
    "auto.hotkey(\"ctrl\", \"v\")\n",
    "auto.press(\"enter\")\n",
    "\n",
    "auto.click(x=1923, y=519)\n",
    "pyperclip.copy(\"Relatório de vendas\")\n",
    "auto.hotkey(\"ctrl\", \"v\")\n",
    "auto.click(x=2067, y=1000)\n",
    "time.sleep(2)\n",
    "auto.click(x=1421, y=58)\n",
    "auto.write(\"D:\\downloads\")\n",
    "auto.press(\"enter\")\n",
    "auto.click(x=2071, y=980)\n",
    "auto.write(\"Vendas - Dez\")\n",
    "auto.press(\"enter\")\n",
    "auto.click(x=1946, y=996)"
   ]
  },
  {
   "cell_type": "markdown",
   "metadata": {},
   "source": [
    "#### Use esse código para descobrir qual a posição de um item que queira clicar\n",
    "\n",
    "- Lembre-se: a posição na sua tela é diferente da posição na minha tela"
   ]
  },
  {
   "cell_type": "code",
   "execution_count": 10,
   "metadata": {},
   "outputs": [
    {
     "data": {
      "text/plain": [
       "Point(x=1340, y=223)"
      ]
     },
     "execution_count": 10,
     "metadata": {},
     "output_type": "execute_result"
    }
   ],
   "source": [
    "import time\n",
    "time.sleep(6)\n",
    "auto.position() #Printa a posição do seu mouse na tela do seu computador\n",
    "\n",
    "#Esse x e y são pessoais! Faça de acordo com a sua tela, por isso a importancia desse processo"
   ]
  },
  {
   "cell_type": "code",
   "execution_count": 8,
   "metadata": {},
   "outputs": [
    {
     "data": {
      "text/plain": [
       "<function pyautogui.click(x=None, y=None, clicks=1, interval=0.0, button='primary', duration=0.0, tween=<function linear at 0x000001A4D2DCEEE0>, logScreenshot=None, _pause=True)>"
      ]
     },
     "execution_count": 8,
     "metadata": {},
     "output_type": "execute_result"
    }
   ],
   "source": [
    "auto.click"
   ]
  },
  {
   "cell_type": "code",
   "execution_count": null,
   "metadata": {},
   "outputs": [],
   "source": []
  },
  {
   "cell_type": "code",
   "execution_count": null,
   "metadata": {},
   "outputs": [],
   "source": []
  }
 ],
 "metadata": {
  "kernelspec": {
   "display_name": "Python 3 (ipykernel)",
   "language": "python",
   "name": "python3"
  },
  "language_info": {
   "codemirror_mode": {
    "name": "ipython",
    "version": 3
   },
   "file_extension": ".py",
   "mimetype": "text/x-python",
   "name": "python",
   "nbconvert_exporter": "python",
   "pygments_lexer": "ipython3",
   "version": "3.9.2"
  }
 },
 "nbformat": 4,
 "nbformat_minor": 4
}
